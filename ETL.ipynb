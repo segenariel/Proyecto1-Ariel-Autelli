{
 "cells": [
  {
   "cell_type": "code",
   "execution_count": 101,
   "metadata": {},
   "outputs": [
    {
     "name": "stdout",
     "output_type": "stream",
     "text": [
      "Requirement already satisfied: annotated-types==0.6.0 in c:\\users\\segen\\appdata\\local\\programs\\python\\python311\\lib\\site-packages (from -r requisitos.txt (line 1)) (0.6.0)\n",
      "Requirement already satisfied: anyio==4.2.0 in c:\\users\\segen\\appdata\\local\\programs\\python\\python311\\lib\\site-packages (from -r requisitos.txt (line 2)) (4.2.0)\n",
      "Requirement already satisfied: click==8.1.7 in c:\\users\\segen\\appdata\\local\\programs\\python\\python311\\lib\\site-packages (from -r requisitos.txt (line 3)) (8.1.7)\n",
      "Requirement already satisfied: colorama==0.4.6 in c:\\users\\segen\\appdata\\roaming\\python\\python311\\site-packages (from -r requisitos.txt (line 4)) (0.4.6)\n",
      "Requirement already satisfied: fastapi==0.109.1 in c:\\users\\segen\\appdata\\local\\programs\\python\\python311\\lib\\site-packages (from -r requisitos.txt (line 5)) (0.109.1)\n",
      "Requirement already satisfied: h11==0.14.0 in c:\\users\\segen\\appdata\\local\\programs\\python\\python311\\lib\\site-packages (from -r requisitos.txt (line 6)) (0.14.0)\n",
      "Requirement already satisfied: idna==3.6 in c:\\users\\segen\\appdata\\local\\programs\\python\\python311\\lib\\site-packages (from -r requisitos.txt (line 7)) (3.6)\n",
      "Requirement already satisfied: Jinja2==3.1.3 in c:\\users\\segen\\appdata\\local\\programs\\python\\python311\\lib\\site-packages (from -r requisitos.txt (line 8)) (3.1.3)\n",
      "Requirement already satisfied: joblib==1.3.2 in c:\\users\\segen\\appdata\\local\\programs\\python\\python311\\lib\\site-packages (from -r requisitos.txt (line 9)) (1.3.2)\n",
      "Requirement already satisfied: MarkupSafe==2.1.5 in c:\\users\\segen\\appdata\\local\\programs\\python\\python311\\lib\\site-packages (from -r requisitos.txt (line 10)) (2.1.5)\n",
      "Requirement already satisfied: numpy==1.26.3 in c:\\users\\segen\\appdata\\local\\programs\\python\\python311\\lib\\site-packages (from -r requisitos.txt (line 11)) (1.26.3)\n",
      "Requirement already satisfied: pandas==2.2.0 in c:\\users\\segen\\appdata\\local\\programs\\python\\python311\\lib\\site-packages (from -r requisitos.txt (line 12)) (2.2.0)\n",
      "Requirement already satisfied: pyarrow==15.0.0 in c:\\users\\segen\\appdata\\local\\programs\\python\\python311\\lib\\site-packages (from -r requisitos.txt (line 13)) (15.0.0)\n",
      "Requirement already satisfied: pydantic==2.6.0 in c:\\users\\segen\\appdata\\local\\programs\\python\\python311\\lib\\site-packages (from -r requisitos.txt (line 14)) (2.6.0)\n",
      "Requirement already satisfied: pydantic_core==2.16.1 in c:\\users\\segen\\appdata\\local\\programs\\python\\python311\\lib\\site-packages (from -r requisitos.txt (line 15)) (2.16.1)\n",
      "Requirement already satisfied: python-dateutil==2.8.2 in c:\\users\\segen\\appdata\\local\\programs\\python\\python311\\lib\\site-packages (from -r requisitos.txt (line 16)) (2.8.2)\n",
      "Requirement already satisfied: pytz==2024.1 in c:\\users\\segen\\appdata\\local\\programs\\python\\python311\\lib\\site-packages (from -r requisitos.txt (line 17)) (2024.1)\n",
      "Requirement already satisfied: scikit-learn==1.4.0 in c:\\users\\segen\\appdata\\local\\programs\\python\\python311\\lib\\site-packages (from -r requisitos.txt (line 18)) (1.4.0)\n",
      "Requirement already satisfied: scipy==1.12.0 in c:\\users\\segen\\appdata\\local\\programs\\python\\python311\\lib\\site-packages (from -r requisitos.txt (line 19)) (1.12.0)\n",
      "Requirement already satisfied: six==1.16.0 in c:\\users\\segen\\appdata\\local\\programs\\python\\python311\\lib\\site-packages (from -r requisitos.txt (line 20)) (1.16.0)\n",
      "Requirement already satisfied: sniffio==1.3.0 in c:\\users\\segen\\appdata\\local\\programs\\python\\python311\\lib\\site-packages (from -r requisitos.txt (line 21)) (1.3.0)\n",
      "Requirement already satisfied: starlette==0.35.1 in c:\\users\\segen\\appdata\\local\\programs\\python\\python311\\lib\\site-packages (from -r requisitos.txt (line 22)) (0.35.1)\n",
      "Requirement already satisfied: threadpoolctl==3.2.0 in c:\\users\\segen\\appdata\\local\\programs\\python\\python311\\lib\\site-packages (from -r requisitos.txt (line 23)) (3.2.0)\n",
      "Requirement already satisfied: typing_extensions==4.9.0 in c:\\users\\segen\\appdata\\local\\programs\\python\\python311\\lib\\site-packages (from -r requisitos.txt (line 24)) (4.9.0)\n",
      "Requirement already satisfied: tzdata==2023.4 in c:\\users\\segen\\appdata\\local\\programs\\python\\python311\\lib\\site-packages (from -r requisitos.txt (line 25)) (2023.4)\n",
      "Requirement already satisfied: uvicorn==0.27.0.post1 in c:\\users\\segen\\appdata\\local\\programs\\python\\python311\\lib\\site-packages (from -r requisitos.txt (line 26)) (0.27.0.post1)\n",
      "Requirement already satisfied: matplotlib==3.9.2 in c:\\users\\segen\\appdata\\local\\programs\\python\\python311\\lib\\site-packages (from -r requisitos.txt (line 27)) (3.9.2)\n",
      "Requirement already satisfied: seaborn==0.13.2 in c:\\users\\segen\\appdata\\local\\programs\\python\\python311\\lib\\site-packages (from -r requisitos.txt (line 28)) (0.13.2)\n",
      "Requirement already satisfied: virtualenv==20.28.1 in c:\\users\\segen\\appdata\\local\\programs\\python\\python311\\lib\\site-packages (from -r requisitos.txt (line 29)) (20.28.1)\n",
      "Requirement already satisfied: contourpy>=1.0.1 in c:\\users\\segen\\appdata\\local\\programs\\python\\python311\\lib\\site-packages (from matplotlib==3.9.2->-r requisitos.txt (line 27)) (1.3.0)\n",
      "Requirement already satisfied: cycler>=0.10 in c:\\users\\segen\\appdata\\local\\programs\\python\\python311\\lib\\site-packages (from matplotlib==3.9.2->-r requisitos.txt (line 27)) (0.12.1)\n",
      "Requirement already satisfied: fonttools>=4.22.0 in c:\\users\\segen\\appdata\\local\\programs\\python\\python311\\lib\\site-packages (from matplotlib==3.9.2->-r requisitos.txt (line 27)) (4.54.1)\n",
      "Requirement already satisfied: kiwisolver>=1.3.1 in c:\\users\\segen\\appdata\\local\\programs\\python\\python311\\lib\\site-packages (from matplotlib==3.9.2->-r requisitos.txt (line 27)) (1.4.7)\n",
      "Requirement already satisfied: packaging>=20.0 in c:\\users\\segen\\appdata\\roaming\\python\\python311\\site-packages (from matplotlib==3.9.2->-r requisitos.txt (line 27)) (24.1)\n",
      "Requirement already satisfied: pillow>=8 in c:\\users\\segen\\appdata\\local\\programs\\python\\python311\\lib\\site-packages (from matplotlib==3.9.2->-r requisitos.txt (line 27)) (11.0.0)\n",
      "Requirement already satisfied: pyparsing>=2.3.1 in c:\\users\\segen\\appdata\\local\\programs\\python\\python311\\lib\\site-packages (from matplotlib==3.9.2->-r requisitos.txt (line 27)) (3.2.0)\n",
      "Requirement already satisfied: distlib<1,>=0.3.7 in c:\\users\\segen\\appdata\\local\\programs\\python\\python311\\lib\\site-packages (from virtualenv==20.28.1->-r requisitos.txt (line 29)) (0.3.9)\n",
      "Requirement already satisfied: filelock<4,>=3.12.2 in c:\\users\\segen\\appdata\\local\\programs\\python\\python311\\lib\\site-packages (from virtualenv==20.28.1->-r requisitos.txt (line 29)) (3.16.1)\n",
      "Requirement already satisfied: platformdirs<5,>=3.9.1 in c:\\users\\segen\\appdata\\roaming\\python\\python311\\site-packages (from virtualenv==20.28.1->-r requisitos.txt (line 29)) (4.3.6)\n",
      "Note: you may need to restart the kernel to use updated packages.\n"
     ]
    },
    {
     "name": "stderr",
     "output_type": "stream",
     "text": [
      "\n",
      "[notice] A new release of pip is available: 23.1.2 -> 25.0.1\n",
      "[notice] To update, run: python.exe -m pip install --upgrade pip\n"
     ]
    }
   ],
   "source": [
    "pip install -r requisitos.txt"
   ]
  },
  {
   "cell_type": "code",
   "execution_count": 102,
   "metadata": {},
   "outputs": [],
   "source": [
    "import pandas as pd\n",
    "from pandas import json_normalize\n",
    "\n",
    "# Definir df_dataset desde archivo CSV\n",
    "df_dataset = pd.read_csv('dataset.csv')\n",
    "\n",
    "# Desanidar el campo 'belongs_to_collection'\n",
    "df_belongs_to_collection = json_normalize(df_dataset['belongs_to_collection'])\n",
    "df_belongs_to_collection.columns = [f'belongs_to_collection_{col}' for col in df_belongs_to_collection.columns]\n",
    "\n",
    "# Desanidar el campo 'production_companies'\n",
    "df_production_companies = json_normalize(df_dataset['production_companies'].apply(lambda x: x if isinstance(x, list) else []))\n",
    "df_production_companies.columns = [f'production_companies_{col}' for col in df_production_companies.columns]\n",
    "\n",
    "# Desanidar el campo 'production_countries'\n",
    "df_production_countries = json_normalize(df_dataset['production_countries'].apply(lambda x: x if isinstance(x, list) else []))\n",
    "df_production_countries.columns = [f'production_countries_{col}' for col in df_production_countries.columns]\n",
    "\n",
    "# Concatenar los dataframes desanidados con el dataframe original\n",
    "df_dataset = pd.concat([df_dataset, df_belongs_to_collection, df_production_companies, df_production_countries], axis=1)\n",
    "\n",
    "# Guardar el dataframe resultante en un archivo CSV\n",
    "df_dataset.to_csv('dataset.csv', index=False)"
   ]
  },
  {
   "cell_type": "code",
   "execution_count": 103,
   "metadata": {},
   "outputs": [
    {
     "name": "stderr",
     "output_type": "stream",
     "text": [
      "C:\\Users\\segen\\AppData\\Local\\Temp\\ipykernel_4440\\1034261554.py:2: FutureWarning: A value is trying to be set on a copy of a DataFrame or Series through chained assignment using an inplace method.\n",
      "The behavior will change in pandas 3.0. This inplace method will never work because the intermediate object on which we are setting values always behaves as a copy.\n",
      "\n",
      "For example, when doing 'df[col].method(value, inplace=True)', try using 'df.method({col: value}, inplace=True)' or df[col] = df[col].method(value) instead, to perform the operation inplace on the original object.\n",
      "\n",
      "\n",
      "  df_dataset['revenue'].fillna(0, inplace=True)\n",
      "C:\\Users\\segen\\AppData\\Local\\Temp\\ipykernel_4440\\1034261554.py:3: FutureWarning: A value is trying to be set on a copy of a DataFrame or Series through chained assignment using an inplace method.\n",
      "The behavior will change in pandas 3.0. This inplace method will never work because the intermediate object on which we are setting values always behaves as a copy.\n",
      "\n",
      "For example, when doing 'df[col].method(value, inplace=True)', try using 'df.method({col: value}, inplace=True)' or df[col] = df[col].method(value) instead, to perform the operation inplace on the original object.\n",
      "\n",
      "\n",
      "  df_dataset['budget'].fillna(0, inplace=True)\n"
     ]
    }
   ],
   "source": [
    "# Rellenar valores nulos en los campos 'revenue' y 'budget' con 0\n",
    "df_dataset['revenue'].fillna(0, inplace=True)\n",
    "df_dataset['budget'].fillna(0, inplace=True)\n",
    "\n",
    "# Guardar el dataframe actualizado en un archivo CSV\n",
    "df_dataset.to_csv('dataset.csv', index=False)"
   ]
  },
  {
   "cell_type": "code",
   "execution_count": 104,
   "metadata": {},
   "outputs": [],
   "source": [
    "# Eliminar filas con valores nulos en el campo 'release_date'\n",
    "df_dataset.dropna(subset=['release_date'], inplace=True)\n",
    "\n",
    "# Guardar el dataframe actualizado en un archivo CSV\n",
    "df_dataset.to_csv('dataset.csv', index=False)"
   ]
  },
  {
   "cell_type": "code",
   "execution_count": 105,
   "metadata": {
    "vscode": {
     "languageId": "ruby"
    }
   },
   "outputs": [],
   "source": [
    "# Converti la columna 'release_date' al formato AAAA-mm-dd\n",
    "df_dataset['release_date'] = pd.to_datetime(df_dataset['release_date'], errors='coerce').dt.strftime('%Y-%m-%d')\n",
    "\n",
    "# Crear la columna 'release_year' extrayendo el año de la fecha de estreno\n",
    "df_dataset['release_year'] = pd.to_datetime(df_dataset['release_date'], errors='coerce').dt.year\n",
    "\n",
    "# Guardar el dataframe actualizado en un archivo CSV\n",
    "df_dataset.to_csv('dataset.csv', index=False)"
   ]
  },
  {
   "cell_type": "code",
   "execution_count": 106,
   "metadata": {},
   "outputs": [],
   "source": [
    "# Eliminar las columnas no utilizadas si existen\n",
    "columns_to_drop = ['video', 'imdb_id', 'adult', 'original_title', 'poster_path', 'homepage']\n",
    "df_dataset.drop(columns=[col for col in columns_to_drop if col in df_dataset.columns], inplace=True)\n",
    "\n",
    "# Guardar el dataframe actualizado en un archivo CSV\n",
    "df_dataset.to_csv('dataset.csv', index=False)"
   ]
  },
  {
   "cell_type": "code",
   "execution_count": 107,
   "metadata": {},
   "outputs": [
    {
     "name": "stdout",
     "output_type": "stream",
     "text": [
      "                                                cast  \\\n",
      "0  [{'cast_id': 2, 'character': 'Ross', 'credit_i...   \n",
      "1                                                 []   \n",
      "2                                                 []   \n",
      "3  [{'cast_id': 1, 'character': 'Judah Ben-Hur', ...   \n",
      "4  [{'cast_id': 6, 'character': 'Garona Halforcen...   \n",
      "\n",
      "                                                crew      id  \n",
      "0  [{'credit_id': '56c458d29251416ba7002055', 'de...  194188  \n",
      "1  [{'credit_id': '56633127c3a3682bd8004d4f', 'de...  295958  \n",
      "2                                                 []  307087  \n",
      "3  [{'credit_id': '587811b7925141104a00cb16', 'de...  271969  \n",
      "4  [{'credit_id': '573c331c9251417af2000a12', 'de...   68735  \n",
      "<class 'pandas.core.frame.DataFrame'>\n",
      "RangeIndex: 2135 entries, 0 to 2134\n",
      "Data columns (total 3 columns):\n",
      " #   Column  Non-Null Count  Dtype \n",
      "---  ------  --------------  ----- \n",
      " 0   cast    2135 non-null   object\n",
      " 1   crew    2135 non-null   object\n",
      " 2   id      2135 non-null   int64 \n",
      "dtypes: int64(1), object(2)\n",
      "memory usage: 50.2+ KB\n",
      "None\n",
      "                  id\n",
      "count    2135.000000\n",
      "mean   377895.103044\n",
      "std     55245.373880\n",
      "min     14564.000000\n",
      "25%    355391.500000\n",
      "50%    388256.000000\n",
      "75%    412664.500000\n",
      "max    468707.000000\n"
     ]
    }
   ],
   "source": [
    "# Definir credits con datos de ejemplo o cargarlo desde un archivo CSV\n",
    "credits = pd.read_csv('credits.csv')\n",
    "\n",
    "# Mostrar las primeras filas del dataframe\n",
    "print(credits.head())\n",
    "\n",
    "# Mostrar información general del dataframe\n",
    "print(credits.info())\n",
    "\n",
    "# Mostrar estadísticas descriptivas del dataframe\n",
    "print(credits.describe())"
   ]
  },
  {
   "cell_type": "code",
   "execution_count": 146,
   "metadata": {},
   "outputs": [],
   "source": [
    "def cantidad_filmaciones_mes(mes: str) -> str:\n",
    "    mes_numero = meses.get(mes.lower())\n",
    "    if mes_numero:\n",
    "        cantidad = df_dataset[df_dataset['release_date'].dt.month == mes_numero].shape[0]\n",
    "        return f\"{cantidad} cantidad de películas fueron estrenadas en el mes de {mes}\"\n",
    "    else:\n",
    "        return \"Mes no válido\"\n",
    "# Definir el diccionario de meses\n",
    "meses = {\n",
    "\t'enero': 1,\n",
    "\t'febrero': 2,\n",
    "\t'marzo': 3,\n",
    "\t'abril': 4,\n",
    "\t'mayo': 5,\n",
    "\t'junio': 6,\n",
    "\t'julio': 7,\n",
    "\t'agosto': 8,\n",
    "\t'septiembre': 9,\n",
    "\t'octubre': 10,\n",
    "\t'noviembre': 11,\n",
    "\t'diciembre': 12\n",
    "}\n",
    "\n",
    "# Convertir la columna 'release_date' al formato datetime\n",
    "df_dataset['release_date'] = pd.to_datetime(df_dataset['release_date'], errors='coerce')"
   ]
  },
  {
   "cell_type": "code",
   "execution_count": null,
   "metadata": {},
   "outputs": [],
   "source": []
  },
  {
   "cell_type": "code",
   "execution_count": 110,
   "metadata": {},
   "outputs": [
    {
     "name": "stdout",
     "output_type": "stream",
     "text": [
      "3032 cantidad de películas fueron estrenadas en el mes de febrero\n"
     ]
    }
   ],
   "source": [
    "print(cantidad_filmaciones_mes('febrero'))"
   ]
  },
  {
   "cell_type": "code",
   "execution_count": 111,
   "metadata": {},
   "outputs": [
    {
     "name": "stdout",
     "output_type": "stream",
     "text": [
      "4838 cantidad de películas fueron estrenadas en el mes de septiembre\n"
     ]
    }
   ],
   "source": [
    "print(cantidad_filmaciones_mes('septiembre'))"
   ]
  },
  {
   "cell_type": "code",
   "execution_count": 112,
   "metadata": {},
   "outputs": [],
   "source": [
    "def cantidad_filmaciones_dia(dia: str) -> str:\n",
    "\t# Convertir el nombre del día a minúsculas\n",
    "\tdia = dia.lower()\n",
    "\t\n",
    "\tdias_semana = {\n",
    "\t\t'lunes': 'Monday',\n",
    "\t\t'martes': 'Tuesday',\n",
    "\t\t'miercoles': 'Wednesday',\n",
    "\t\t'jueves': 'Thursday',\n",
    "\t\t'viernes': 'Friday',\n",
    "\t\t'sabado': 'Saturday',\n",
    "\t\t'domingo': 'Sunday'\n",
    "\t}\n",
    "\t\n",
    "\tdia_ingles = dias_semana.get(dia)\n",
    "\t\n",
    "\tif dia_ingles:\n",
    "\t\t# Contar la cantidad de filmaciones en el día especificado\n",
    "\t\tcantidad = df_dataset[df_dataset['release_date'].dt.day_name() == dia_ingles].shape[0]\n",
    "\t\treturn f\"{cantidad} cantidad de películas que fueron estrenadas el día {dia}\"\n",
    "\telse:\n",
    "\t\treturn \"Día no válido\""
   ]
  },
  {
   "cell_type": "code",
   "execution_count": 113,
   "metadata": {},
   "outputs": [
    {
     "name": "stdout",
     "output_type": "stream",
     "text": [
      "13908 cantidad de películas que fueron estrenadas el día viernes\n"
     ]
    }
   ],
   "source": [
    "print(cantidad_filmaciones_dia('viernes'))"
   ]
  },
  {
   "cell_type": "code",
   "execution_count": 114,
   "metadata": {},
   "outputs": [
    {
     "name": "stdout",
     "output_type": "stream",
     "text": [
      "7035 cantidad de películas que fueron estrenadas el día miercoles\n"
     ]
    }
   ],
   "source": [
    "print(cantidad_filmaciones_dia('miercoles'))"
   ]
  },
  {
   "cell_type": "code",
   "execution_count": 115,
   "metadata": {},
   "outputs": [
    {
     "name": "stdout",
     "output_type": "stream",
     "text": [
      "5151 cantidad de películas que fueron estrenadas el día sabado\n"
     ]
    }
   ],
   "source": [
    "print(cantidad_filmaciones_dia('sabado'))"
   ]
  },
  {
   "cell_type": "code",
   "execution_count": 116,
   "metadata": {
    "vscode": {
     "languageId": "ruby"
    }
   },
   "outputs": [],
   "source": [
    "def score_titulo(titulo_de_la_filmacion: str) -> str:\n",
    "    # Filtrar el dataframe por el título de la filmación\n",
    "    filmacion = df_dataset[df_dataset['title'].str.lower() == titulo_de_la_filmacion.lower()]\n",
    "    \n",
    "    if not filmacion.empty:\n",
    "        # Obtener el año de estreno y el score/popularidad\n",
    "        titulo = filmacion['title'].values[0]\n",
    "        anio_estreno = int(filmacion['release_year'].values[0])\n",
    "        score = filmacion['popularity'].values[0]\n",
    "        \n",
    "        return f\"La película {titulo} fue estrenada en el año {anio_estreno} con una popularidad de {score}.\"\n",
    "    else:\n",
    "        return \"No se encontró la película con el título proporcionado.\""
   ]
  },
  {
   "cell_type": "code",
   "execution_count": 117,
   "metadata": {
    "vscode": {
     "languageId": "ruby"
    }
   },
   "outputs": [
    {
     "name": "stdout",
     "output_type": "stream",
     "text": [
      "La película The Dark Knight fue estrenada en el año 2008 con una popularidad de 123.167259.\n"
     ]
    }
   ],
   "source": [
    "print(score_titulo('The Dark Knight'))"
   ]
  },
  {
   "cell_type": "code",
   "execution_count": 118,
   "metadata": {
    "vscode": {
     "languageId": "ruby"
    }
   },
   "outputs": [
    {
     "name": "stdout",
     "output_type": "stream",
     "text": [
      "La película The Dark Knight Rises fue estrenada en el año 2012 con una popularidad de 20.58258.\n"
     ]
    }
   ],
   "source": [
    "print(score_titulo('The Dark Knight Rises'))"
   ]
  },
  {
   "cell_type": "code",
   "execution_count": 119,
   "metadata": {},
   "outputs": [],
   "source": [
    "def votos_titulo(titulo_de_la_filmacion: str) -> str:\n",
    "    # Filtrar el dataframe por el título de la filmación\n",
    "    filmacion = df_dataset[df_dataset['title'].str.lower() == titulo_de_la_filmacion.lower()]\n",
    "    \n",
    "    if not filmacion.empty:\n",
    "        # Obtener la cantidad de votos y el valor promedio de las votaciones\n",
    "        titulo = filmacion['title'].values[0]\n",
    "        cantidad_votos = int(filmacion['vote_count'].values[0])\n",
    "        promedio_votos = filmacion['vote_average'].values[0]\n",
    "        \n",
    "        # Verificar si la cantidad de votos es al menos 2000\n",
    "        if cantidad_votos >= 2000:\n",
    "            return f\"La película {titulo} tiene {cantidad_votos} votos con un promedio de {promedio_votos}.\"\n",
    "        else:\n",
    "            return \"La película no cumple con la condición de tener al menos 2000 valoraciones, no se devuelve ningún valor.\"\n",
    "    else:\n",
    "        return \"No se encontró la película con el título proporcionado.\""
   ]
  },
  {
   "cell_type": "code",
   "execution_count": 120,
   "metadata": {},
   "outputs": [
    {
     "name": "stdout",
     "output_type": "stream",
     "text": [
      "La película Star Wars tiene 6778 votos con un promedio de 8.1.\n"
     ]
    }
   ],
   "source": [
    "print(votos_titulo('star wars'))"
   ]
  },
  {
   "cell_type": "code",
   "execution_count": 121,
   "metadata": {},
   "outputs": [
    {
     "name": "stdout",
     "output_type": "stream",
     "text": [
      "La película The Dark Knight tiene 12269 votos con un promedio de 8.3.\n"
     ]
    }
   ],
   "source": [
    "print(votos_titulo('the dark knight'))"
   ]
  },
  {
   "cell_type": "code",
   "execution_count": 154,
   "metadata": {},
   "outputs": [],
   "source": [
    "def get_actor(nombre_actor: str) -> str:\n",
    "    # Filtrar el dataframe de créditos para encontrar las películas en las que ha participado el actor\n",
    "    actor_data = credits[credits['cast'].apply(lambda x: any(d['name'].lower() == nombre_actor.lower() for d in eval(x)))]\n",
    "    \n",
    "    if not actor_data.empty:\n",
    "        # Contar la cantidad de películas en las que ha participado el actor\n",
    "        cantidad_peliculas = actor_data.shape[0]\n",
    "        \n",
    "        # Calcular el retorno total y el promedio de retorno\n",
    "        retorno_total = actor_data['id'].apply(lambda x: df_dataset[df_dataset['id'] == x]['revenue'].values[0] - df_dataset[df_dataset['id'] == x]['budget'].values[0]).sum()\n",
    "        promedio_retorno = retorno_total / cantidad_peliculas\n",
    "        \n",
    "        return f\"El actor {nombre_actor} ha participado de {cantidad_peliculas} cantidad de filmaciones, el mismo ha conseguido un retorno de {retorno_total} con un promedio de {promedio_retorno} por filmación.\"\n",
    "    else:\n",
    "        return \"No se encontró el actor con el nombre proporcionado.\""
   ]
  },
  {
   "cell_type": "code",
   "execution_count": null,
   "metadata": {
    "vscode": {
     "languageId": "coffeescript"
    }
   },
   "outputs": [],
   "source": [
    "def get_director(nombre_director: str) -> List[dict]:\n",
    "    # Filtrar el dataframe de créditos para encontrar las películas dirigidas por el director\n",
    "    director_data = credits[credits['crew'].apply(lambda x: any(d['job'] == 'Director' and d['name'].lower() == nombre_director.lower() for d in eval(x)))]\n",
    "    \n",
    "    if not director_data.empty:\n",
    "        peliculas = []\n",
    "        for idx, row in director_data.iterrows():\n",
    "            pelicula = df_dataset[df_dataset['id'] == row['id']]\n",
    "            if not pelicula.empty:\n",
    "                titulo = pelicula['title'].values[0]\n",
    "                fecha_lanzamiento = pelicula['release_date'].values[0]\n",
    "                retorno_individual = pelicula['revenue'].values[0] - pelicula['budget'].values[0]\n",
    "                costo = pelicula['budget'].values[0]\n",
    "                ganancia = pelicula['revenue'].values[0]\n",
    "                peliculas.append({\n",
    "                    'titulo': titulo,\n",
    "                    'fecha_lanzamiento': fecha_lanzamiento,\n",
    "                    'retorno_individual': retorno_individual,\n",
    "                    'costo': costo,\n",
    "                    'ganancia': ganancia\n",
    "                })\n",
    "        return peliculas\n",
    "    else:\n",
    "        return \"No se encontró el director con el nombre proporcionado.\""
   ]
  },
  {
   "cell_type": "code",
   "execution_count": 122,
   "metadata": {},
   "outputs": [],
   "source": [
    "from sklearn.feature_extraction.text import TfidfVectorizer\n",
    "from sklearn.metrics.pairwise import cosine_similarity\n",
    "from typing import List\n",
    "\n",
    "def recomendacion(titulo: str) -> List[str]:\n",
    "    # Vectorizar los títulos de las películas\n",
    "    tfidf_vectorizer = TfidfVectorizer(stop_words='english')\n",
    "    tfidf_matrix = tfidf_vectorizer.fit_transform(df_dataset['title'].fillna(''))\n",
    "    \n",
    "    # Calcular la similitud coseno entre las películas\n",
    "    cosine_sim = cosine_similarity(tfidf_matrix, tfidf_matrix)\n",
    "    \n",
    "    # Obtener el índice de la película que coincide con el título dado\n",
    "    idx = df_dataset[df_dataset['title'].str.lower() == titulo.lower()].index[0]\n",
    "    \n",
    "    # Obtener las puntuaciones de similitud de todas las películas con la película dada\n",
    "    sim_scores = list(enumerate(cosine_sim[idx]))\n",
    "    \n",
    "    # Ordenar las películas en función de las puntuaciones de similitud\n",
    "    sim_scores = sorted(sim_scores, key=lambda x: x[1], reverse=True)\n",
    "    \n",
    "    # Obtener los índices de las 5 películas más similares\n",
    "    sim_scores = sim_scores[1:6]\n",
    "    movie_indices = [i[0] for i in sim_scores]\n",
    "    \n",
    "    # Devolver los títulos de las 5 películas más similares\n",
    "    return df_dataset['title'].iloc[movie_indices].tolist()"
   ]
  },
  {
   "cell_type": "code",
   "execution_count": 123,
   "metadata": {},
   "outputs": [
    {
     "name": "stdout",
     "output_type": "stream",
     "text": [
      "['Star Wars: The Clone Wars', 'Between Two Wars', 'The Star Wars Holiday Special', 'Rogue One: A Star Wars Story', 'Star!']\n"
     ]
    }
   ],
   "source": [
    "print(recomendacion('star wars'))"
   ]
  },
  {
   "cell_type": "code",
   "execution_count": 124,
   "metadata": {},
   "outputs": [
    {
     "name": "stdout",
     "output_type": "stream",
     "text": [
      "['The Dark Knight', 'First Knight', 'The Dark Knight Rises', 'Batman: The Dark Knight Returns, Part 1', 'Batman: The Dark Knight Returns, Part 2']\n"
     ]
    }
   ],
   "source": [
    "print(recomendacion('the dark knight'))"
   ]
  },
  {
   "cell_type": "code",
   "execution_count": 150,
   "metadata": {},
   "outputs": [
    {
     "name": "stdout",
     "output_type": "stream",
     "text": [
      "Requirement already satisfied: fastapi in c:\\users\\segen\\appdata\\local\\programs\\python\\python311\\lib\\site-packages (0.109.1)Note: you may need to restart the kernel to use updated packages.\n",
      "\n",
      "Requirement already satisfied: uvicorn in c:\\users\\segen\\appdata\\local\\programs\\python\\python311\\lib\\site-packages (0.27.0.post1)\n",
      "Requirement already satisfied: pydantic!=1.8,!=1.8.1,!=2.0.0,!=2.0.1,!=2.1.0,<3.0.0,>=1.7.4 in c:\\users\\segen\\appdata\\local\\programs\\python\\python311\\lib\\site-packages (from fastapi) (2.6.0)\n",
      "Requirement already satisfied: starlette<0.36.0,>=0.35.0 in c:\\users\\segen\\appdata\\local\\programs\\python\\python311\\lib\\site-packages (from fastapi) (0.35.1)\n",
      "Requirement already satisfied: typing-extensions>=4.8.0 in c:\\users\\segen\\appdata\\local\\programs\\python\\python311\\lib\\site-packages (from fastapi) (4.9.0)\n",
      "Requirement already satisfied: click>=7.0 in c:\\users\\segen\\appdata\\local\\programs\\python\\python311\\lib\\site-packages (from uvicorn) (8.1.7)\n",
      "Requirement already satisfied: h11>=0.8 in c:\\users\\segen\\appdata\\local\\programs\\python\\python311\\lib\\site-packages (from uvicorn) (0.14.0)\n",
      "Requirement already satisfied: colorama in c:\\users\\segen\\appdata\\roaming\\python\\python311\\site-packages (from click>=7.0->uvicorn) (0.4.6)\n",
      "Requirement already satisfied: annotated-types>=0.4.0 in c:\\users\\segen\\appdata\\local\\programs\\python\\python311\\lib\\site-packages (from pydantic!=1.8,!=1.8.1,!=2.0.0,!=2.0.1,!=2.1.0,<3.0.0,>=1.7.4->fastapi) (0.6.0)\n",
      "Requirement already satisfied: pydantic-core==2.16.1 in c:\\users\\segen\\appdata\\local\\programs\\python\\python311\\lib\\site-packages (from pydantic!=1.8,!=1.8.1,!=2.0.0,!=2.0.1,!=2.1.0,<3.0.0,>=1.7.4->fastapi) (2.16.1)\n",
      "Requirement already satisfied: anyio<5,>=3.4.0 in c:\\users\\segen\\appdata\\local\\programs\\python\\python311\\lib\\site-packages (from starlette<0.36.0,>=0.35.0->fastapi) (4.2.0)\n",
      "Requirement already satisfied: idna>=2.8 in c:\\users\\segen\\appdata\\local\\programs\\python\\python311\\lib\\site-packages (from anyio<5,>=3.4.0->starlette<0.36.0,>=0.35.0->fastapi) (3.6)\n",
      "Requirement already satisfied: sniffio>=1.1 in c:\\users\\segen\\appdata\\local\\programs\\python\\python311\\lib\\site-packages (from anyio<5,>=3.4.0->starlette<0.36.0,>=0.35.0->fastapi) (1.3.0)\n"
     ]
    },
    {
     "name": "stderr",
     "output_type": "stream",
     "text": [
      "\n",
      "[notice] A new release of pip is available: 23.1.2 -> 25.0.1\n",
      "[notice] To update, run: python.exe -m pip install --upgrade pip\n"
     ]
    }
   ],
   "source": [
    "pip install fastapi uvicorn"
   ]
  },
  {
   "cell_type": "code",
   "execution_count": 151,
   "metadata": {},
   "outputs": [],
   "source": [
    "from fastapi import FastAPI\n",
    "from typing import List\n",
    "\n",
    "app = FastAPI()\n",
    "\n",
    "@app.get('/cantidad_filmaciones_mes/{mes}')\n",
    "def cantidad_filmaciones_mes(mes: str) -> str:\n",
    "    mes_numero = meses.get(mes.lower())\n",
    "    if mes_numero:\n",
    "        cantidad = df_dataset[df_dataset['release_date'].dt.month == mes_numero].shape[0]\n",
    "        return f\"{cantidad} cantidad de películas fueron estrenadas en el mes de {mes}\"\n",
    "    else:\n",
    "        return \"Mes no válido\"\n",
    "\n",
    "@app.get('/cantidad_filmaciones_dia/{dia}')\n",
    "def cantidad_filmaciones_dia(dia: str) -> str:\n",
    "    dia = dia.lower()\n",
    "    dias_semana = {\n",
    "        'lunes': 'Monday',\n",
    "        'martes': 'Tuesday',\n",
    "        'miercoles': 'Wednesday',\n",
    "        'jueves': 'Thursday',\n",
    "        'viernes': 'Friday',\n",
    "        'sabado': 'Saturday',\n",
    "        'domingo': 'Sunday'\n",
    "    }\n",
    "    dia_ingles = dias_semana.get(dia)\n",
    "    if dia_ingles:\n",
    "        cantidad = df_dataset[df_dataset['release_date'].dt.day_name() == dia_ingles].shape[0]\n",
    "        return f\"{cantidad} cantidad de películas fueron estrenadas el día {dia}\"\n",
    "    else:\n",
    "        return \"Día no válido\"\n",
    "\n",
    "@app.get('/score_titulo/{titulo_de_la_filmacion}')\n",
    "def score_titulo(titulo_de_la_filmacion: str) -> str:\n",
    "    filmacion = df_dataset[df_dataset['title'].str.lower() == titulo_de_la_filmacion.lower()]\n",
    "    if not filmacion.empty:\n",
    "        titulo = filmacion['title'].values[0]\n",
    "        anio_estreno = int(filmacion['release_year'].values[0])\n",
    "        score = filmacion['popularity'].values[0]\n",
    "        return f\"La película {titulo} fue estrenada en el año {anio_estreno} con una popularidad de {score}.\"\n",
    "    else:\n",
    "        return \"No se encontró la película con el título proporcionado.\"\n",
    "\n",
    "@app.get('/votos_titulo/{titulo_de_la_filmacion}')\n",
    "def votos_titulo(titulo_de_la_filmacion: str) -> str:\n",
    "    filmacion = df_dataset[df_dataset['title'].str.lower() == titulo_de_la_filmacion.lower()]\n",
    "    if not filmacion.empty:\n",
    "        titulo = filmacion['title'].values[0]\n",
    "        cantidad_votos = int(filmacion['vote_count'].values[0])\n",
    "        promedio_votos = filmacion['vote_average'].values[0]\n",
    "        if cantidad_votos >= 2000:\n",
    "            return f\"La película {titulo} tiene {cantidad_votos} votos con un promedio de {promedio_votos}.\"\n",
    "        else:\n",
    "            return \"La película no cumple con la condición de tener al menos 2000 valoraciones, no se devuelve ningún valor.\"\n",
    "    else:\n",
    "        return \"No se encontró la película con el título proporcionado.\"\n",
    "\n",
    "@app.get('/get_actor/{nombre_actor}')\n",
    "def get_actor(nombre_actor: str) -> str:\n",
    "    actor_data = credits[credits['cast'].apply(lambda x: any(d['name'].lower() == nombre_actor.lower() for d in eval(x)))]\n",
    "    if not actor_data.empty:\n",
    "        cantidad_peliculas = actor_data.shape[0]\n",
    "        retorno_total = actor_data['id'].apply(lambda x: df_dataset[df_dataset['id'] == x]['revenue'].values[0] - df_dataset[df_dataset['id'] == x]['budget'].values[0]).sum()\n",
    "        promedio_retorno = retorno_total / cantidad_peliculas\n",
    "        return f\"El actor {nombre_actor} ha participado de {cantidad_peliculas} cantidad de filmaciones, el mismo ha conseguido un retorno de {retorno_total} con un promedio de {promedio_retorno} por filmación.\"\n",
    "    else:\n",
    "        return \"No se encontró el actor con el nombre proporcionado.\"\n",
    "\n",
    "@app.get('/get_director/{nombre_director}')\n",
    "def get_director(nombre_director: str) -> List[dict]:\n",
    "    director_data = credits[credits['crew'].apply(lambda x: any(d['job'] == 'Director' and d['name'].lower() == nombre_director.lower() for d in eval(x)))]\n",
    "    if not director_data.empty:\n",
    "        peliculas = []\n",
    "        for idx, row in director_data.iterrows():\n",
    "            pelicula = df_dataset[df_dataset['id'] == row['id']]\n",
    "            if not pelicula.empty:\n",
    "                titulo = pelicula['title'].values[0]\n",
    "                fecha_lanzamiento = pelicula['release_date'].values[0]\n",
    "                retorno_individual = pelicula['revenue'].values[0] - pelicula['budget'].values[0]\n",
    "                costo = pelicula['budget'].values[0]\n",
    "                ganancia = pelicula['revenue'].values[0]\n",
    "                peliculas.append({\n",
    "                    'titulo': titulo,\n",
    "                    'fecha_lanzamiento': fecha_lanzamiento,\n",
    "                    'retorno_individual': retorno_individual,\n",
    "                    'costo': costo,\n",
    "                    'ganancia': ganancia\n",
    "                })\n",
    "        return peliculas\n",
    "    else:\n",
    "        return \"No se encontró el director con el nombre proporcionado.\""
   ]
  },
  {
   "cell_type": "code",
   "execution_count": 126,
   "metadata": {},
   "outputs": [],
   "source": [
    "# Guardado de los dataframes en archivos CSV\n",
    "df_dataset.to_csv('dataset.csv', index=False)\n",
    "\n",
    "df_credits.to_csv('credits.csv', index=False)"
   ]
  }
 ],
 "metadata": {
  "kernelspec": {
   "display_name": "Python 3",
   "language": "python",
   "name": "python3"
  },
  "language_info": {
   "codemirror_mode": {
    "name": "ipython",
    "version": 3
   },
   "file_extension": ".py",
   "mimetype": "text/x-python",
   "name": "python",
   "nbconvert_exporter": "python",
   "pygments_lexer": "ipython3",
   "version": "3.11.4"
  }
 },
 "nbformat": 4,
 "nbformat_minor": 2
}
